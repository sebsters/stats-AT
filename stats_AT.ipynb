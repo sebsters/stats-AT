{
  "nbformat": 4,
  "nbformat_minor": 0,
  "metadata": {
    "colab": {
      "name": "stats_AT.ipynb",
      "provenance": [],
      "authorship_tag": "ABX9TyM3I3NX/Omn1rN9NZr9KZM0",
      "include_colab_link": true
    },
    "kernelspec": {
      "name": "python3",
      "display_name": "Python 3"
    },
    "language_info": {
      "name": "python"
    }
  },
  "cells": [
    {
      "cell_type": "markdown",
      "metadata": {
        "id": "view-in-github",
        "colab_type": "text"
      },
      "source": [
        "<a href=\"https://colab.research.google.com/github/sebsters/stats-AT/blob/main/stats_AT.ipynb\" target=\"_parent\"><img src=\"https://colab.research.google.com/assets/colab-badge.svg\" alt=\"Open In Colab\"/></a>"
      ]
    },
    {
      "cell_type": "code",
      "metadata": {
        "id": "sFNqi8D799Xd"
      },
      "source": [
        ""
      ],
      "execution_count": null,
      "outputs": []
    },
    {
      "cell_type": "markdown",
      "metadata": {
        "id": "kuFsiD0i-_7R"
      },
      "source": [
        "# Statistics Exercises"
      ]
    },
    {
      "cell_type": "code",
      "metadata": {
        "id": "GAl_2kWe_brM"
      },
      "source": [
        "import numpy as np\n",
        "import pandas as pd\n",
        "import seaborn as sns\n"
      ],
      "execution_count": 3,
      "outputs": []
    },
    {
      "cell_type": "code",
      "metadata": {
        "colab": {
          "base_uri": "https://localhost:8080/"
        },
        "id": "CXL6x8fJ_U5S",
        "outputId": "c2bc7833-bf0b-4574-f9d5-f40a2665f76f"
      },
      "source": [
        "import sys\n",
        "print(f\"python {sys.version[:7]} pandas {pd.__version__} numpy {np.__version__} seaborn {sns.__version__} \")"
      ],
      "execution_count": 26,
      "outputs": [
        {
          "output_type": "stream",
          "name": "stdout",
          "text": [
            "python 3.7.12  pandas 1.1.5 numpy 1.19.5 seaborn 0.11.2 \n"
          ]
        }
      ]
    },
    {
      "cell_type": "markdown",
      "metadata": {
        "id": "0GYlAA8u_Ta4"
      },
      "source": [
        "## Probability Theory\n"
      ]
    },
    {
      "cell_type": "code",
      "metadata": {
        "id": "LJ4SidYffEwh"
      },
      "source": [
        ""
      ],
      "execution_count": null,
      "outputs": []
    }
  ]
}